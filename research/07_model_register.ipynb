{
 "cells": [
  {
   "cell_type": "code",
   "execution_count": 5,
   "metadata": {},
   "outputs": [
    {
     "data": {
      "text/plain": [
       "'c:\\\\Users\\\\lpaes\\\\projects\\\\Xray_img_detection\\\\research'"
      ]
     },
     "execution_count": 5,
     "metadata": {},
     "output_type": "execute_result"
    }
   ],
   "source": [
    "import os\n",
    "%pwd"
   ]
  },
  {
   "cell_type": "code",
   "execution_count": 6,
   "metadata": {},
   "outputs": [
    {
     "data": {
      "text/plain": [
       "'c:\\\\Users\\\\lpaes\\\\projects\\\\Xray_img_detection'"
      ]
     },
     "execution_count": 6,
     "metadata": {},
     "output_type": "execute_result"
    }
   ],
   "source": [
    "# os.chdir('../')\n",
    "# %pwd"
   ]
  },
  {
   "cell_type": "code",
   "execution_count": 8,
   "metadata": {},
   "outputs": [
    {
     "name": "stderr",
     "output_type": "stream",
     "text": [
      "c:\\Users\\lpaes\\projects\\Xray_img_detection\\.venv\\lib\\site-packages\\keras\\src\\backend.py:452: UserWarning: `tf.keras.backend.set_learning_phase` is deprecated and will be removed after 2020-10-11. To update it, simply pass a True/False value to the `training` argument of the `__call__` method of your layer or model.\n",
      "  warnings.warn(\n"
     ]
    }
   ],
   "source": [
    "import mlflow\n",
    "import mlflow.pyfunc\n",
    "import os\n",
    "\n",
    "os.environ['MLFLOW_TRACKING_URI']='https://dagshub.com/Laidson/Xray_img_detection.mlflow'\n",
    "os.environ['MLFLOW_TRACKING_USERNAME']='Laidson' \n",
    "os.environ['MLFLOW_TRACKING_PASSWORD']='c6d4314eb632a1695545c2970d5966edfa2c8a4c' \n",
    "\n",
    "# UPLOAD A EXPERIMENT MODEL\n",
    "\n",
    "mlflow.set_tracking_uri(os.environ['MLFLOW_TRACKING_URI'])\n",
    "logged_model = 'runs:/e2abf067ca114f72b1eac2fe5aa27c05/model'\n",
    "loaded_model = mlflow.pyfunc.load_model(logged_model)\n"
   ]
  },
  {
   "cell_type": "code",
   "execution_count": 5,
   "metadata": {},
   "outputs": [
    {
     "data": {
      "text/plain": [
       "mlflow.pyfunc.loaded_model:\n",
       "  artifact_path: model\n",
       "  flavor: mlflow.tensorflow\n",
       "  run_id: e2abf067ca114f72b1eac2fe5aa27c05"
      ]
     },
     "execution_count": 5,
     "metadata": {},
     "output_type": "execute_result"
    }
   ],
   "source": [
    "loaded_model"
   ]
  },
  {
   "cell_type": "code",
   "execution_count": 23,
   "metadata": {},
   "outputs": [],
   "source": [
    "################### REGISTER A MODEL ###################\n",
    "\n",
    "import mlflow.tensorflow\n",
    "\n",
    "# Enable automatic logging of metrics and parameters\n",
    "mlflow.tensorflow.autolog()\n",
    "\n",
    "# Assuming you already have the experiment_id and run_id\n",
    "experiment_id = ''\n",
    "run_id = 'e2abf067ca114f72b1eac2fe5aa27c05'\n",
    "\n",
    "client = mlflow.tracking.MlflowClient()\n",
    "run = client.get_run(run_id)\n",
    "\n",
    "model_uri = \"run:/{}/model\".format(run_id)\n",
    "model_version_id = run.info.run_id"
   ]
  },
  {
   "cell_type": "code",
   "execution_count": 69,
   "metadata": {},
   "outputs": [
    {
     "name": "stderr",
     "output_type": "stream",
     "text": [
      "Registered model 'TEST' already exists. Creating a new version of this model...\n",
      "2023/08/03 18:27:11 INFO mlflow.tracking._model_registry.client: Waiting up to 300 seconds for model version to finish creation. Model name: TEST, version 3\n",
      "Created version '3' of model 'TEST'.\n"
     ]
    }
   ],
   "source": [
    "# Get the run information using the MLflow API\n",
    "run_info = mlflow.get_run(run_id)\n",
    "\n",
    "experiment_id = run_info.info.experiment_id\n",
    "\n",
    "model_name = \"TEST\"  # Name of the registered model\n",
    "\n",
    "# Register the model\n",
    "registered_model = mlflow.register_model(\n",
    "    model_uri=model_uri,\n",
    "    name=model_name,\n",
    "    #model_version=run_info.info.version,\n",
    "    tags={\"source_run_id\": run_id, \"source_experiment_id\": experiment_id},\n",
    "    #description=\"TESTING REGISTER CODE\",\n",
    ")"
   ]
  },
  {
   "cell_type": "code",
   "execution_count": 44,
   "metadata": {},
   "outputs": [
    {
     "data": {
      "text/plain": [
       "<Run: data=<RunData: metrics={'accuracy': 0.714743614196777, 'loss': 3.39386487007141}, params={'AUGMENTATION': 'False',\n",
       " 'BATCH_SIZE': '16',\n",
       " 'CLASSES': '2',\n",
       " 'EPOCHS': '1',\n",
       " 'IMAGE_SIZE': '[224, 224, 3]',\n",
       " 'INCLUDE_TOP': 'False',\n",
       " 'LEARNING_RATE': '0.01',\n",
       " 'WEIGHTS': 'imagenet'}, tags={'mlflow.log-model.history': '[{\"run_id\": \"e2abf067ca114f72b1eac2fe5aa27c05\", '\n",
       "                             '\"artifact_path\": \"model\", \"utc_time_created\": '\n",
       "                             '\"2023-08-03 14:49:14.007912\", \"flavors\": '\n",
       "                             '{\"tensorflow\": {\"code\": null, \"data\": \"data\", '\n",
       "                             '\"model_type\": \"keras\", \"keras_version\": '\n",
       "                             '\"2.13.1\", \"save_format\": \"tf\"}, '\n",
       "                             '\"python_function\": {\"loader_module\": '\n",
       "                             '\"mlflow.tensorflow\", \"python_version\": \"3.8.6\", '\n",
       "                             '\"data\": \"data\", \"env\": {\"conda\": \"conda.yaml\", '\n",
       "                             '\"virtualenv\": \"python_env.yaml\"}}}, '\n",
       "                             '\"model_uuid\": '\n",
       "                             '\"3273252bed434904b63b545beea560e6\", '\n",
       "                             '\"mlflow_version\": \"2.5.0\"}]',\n",
       " 'mlflow.runName': 'treasured-panda-306',\n",
       " 'mlflow.source.git.commit': '85ac571a3e64171498d404ccb2ca3b23b84e4202',\n",
       " 'mlflow.source.name': 'c:\\\\Users\\\\lpaes\\\\projects\\\\Xray_img_detection\\\\.venv\\\\lib\\\\site-packages\\\\ipykernel_launcher.py',\n",
       " 'mlflow.source.type': 'LOCAL',\n",
       " 'mlflow.user': 'laidson'}>, info=<RunInfo: artifact_uri='mlflow-artifacts:/05490b920f794d958b16784ad98444a4/e2abf067ca114f72b1eac2fe5aa27c05/artifacts', end_time=1691074193363, experiment_id='0', lifecycle_stage='active', run_id='e2abf067ca114f72b1eac2fe5aa27c05', run_name='treasured-panda-306', run_uuid='e2abf067ca114f72b1eac2fe5aa27c05', start_time=1691074028144, status='FINISHED', user_id='Laidson'>, inputs=<RunInputs: dataset_inputs=[]>>"
      ]
     },
     "execution_count": 44,
     "metadata": {},
     "output_type": "execute_result"
    }
   ],
   "source": [
    "# Get the run information using the MLflow API\n",
    "run_info = mlflow.get_run(run_id)\n",
    "\n",
    "mlflow.get_run(run_id)"
   ]
  },
  {
   "cell_type": "markdown",
   "metadata": {},
   "source": [
    "# Get the model in production from MLFLow"
   ]
  },
  {
   "cell_type": "code",
   "execution_count": 10,
   "metadata": {},
   "outputs": [
    {
     "data": {
      "text/plain": [
       "'models:/TEST/Production'"
      ]
     },
     "execution_count": 10,
     "metadata": {},
     "output_type": "execute_result"
    }
   ],
   "source": []
  },
  {
   "cell_type": "code",
   "execution_count": 15,
   "metadata": {},
   "outputs": [
    {
     "name": "stderr",
     "output_type": "stream",
     "text": [
      "c:\\Users\\lpaes\\projects\\Xray_img_detection\\.venv\\lib\\site-packages\\keras\\src\\backend.py:452: UserWarning: `tf.keras.backend.set_learning_phase` is deprecated and will be removed after 2020-10-11. To update it, simply pass a True/False value to the `training` argument of the `__call__` method of your layer or model.\n",
      "  warnings.warn(\n"
     ]
    }
   ],
   "source": [
    "import mlflow\n",
    "mlflow.set_tracking_uri(os.environ['MLFLOW_TRACKING_URI'])\n",
    "\n",
    "model_name = \"XRAY\"  # Name of the registered model\n",
    "stage = 'Staging'\n",
    "\n",
    "model = mlflow.pyfunc.load_model(model_uri=f'models:/{model_name}/{stage}')\n"
   ]
  },
  {
   "cell_type": "code",
   "execution_count": 16,
   "metadata": {},
   "outputs": [
    {
     "data": {
      "text/plain": [
       "mlflow.pyfunc.PyFuncModel"
      ]
     },
     "execution_count": 16,
     "metadata": {},
     "output_type": "execute_result"
    }
   ],
   "source": [
    "type(model)"
   ]
  },
  {
   "cell_type": "code",
   "execution_count": null,
   "metadata": {},
   "outputs": [],
   "source": []
  }
 ],
 "metadata": {
  "kernelspec": {
   "display_name": ".venv",
   "language": "python",
   "name": "python3"
  },
  "language_info": {
   "codemirror_mode": {
    "name": "ipython",
    "version": 3
   },
   "file_extension": ".py",
   "mimetype": "text/x-python",
   "name": "python",
   "nbconvert_exporter": "python",
   "pygments_lexer": "ipython3",
   "version": "3.8.6"
  },
  "orig_nbformat": 4
 },
 "nbformat": 4,
 "nbformat_minor": 2
}
