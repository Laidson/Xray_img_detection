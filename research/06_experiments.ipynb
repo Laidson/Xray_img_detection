{
 "cells": [
  {
   "cell_type": "code",
   "execution_count": 1,
   "metadata": {},
   "outputs": [
    {
     "data": {
      "text/plain": [
       "'c:\\\\Users\\\\lpaes\\\\projects\\\\Xray_img_detection\\\\research'"
      ]
     },
     "execution_count": 1,
     "metadata": {},
     "output_type": "execute_result"
    }
   ],
   "source": [
    "import os\n",
    "%pwd"
   ]
  },
  {
   "cell_type": "code",
   "execution_count": 2,
   "metadata": {},
   "outputs": [
    {
     "data": {
      "text/plain": [
       "'c:\\\\Users\\\\lpaes\\\\projects\\\\Xray_img_detection'"
      ]
     },
     "execution_count": 2,
     "metadata": {},
     "output_type": "execute_result"
    }
   ],
   "source": [
    "# os.chdir('../')\n",
    "# %pwd"
   ]
  },
  {
   "cell_type": "code",
   "execution_count": 3,
   "metadata": {},
   "outputs": [],
   "source": [
    "import tensorflow as tf"
   ]
  },
  {
   "cell_type": "code",
   "execution_count": 36,
   "metadata": {},
   "outputs": [],
   "source": [
    "from dataclasses import dataclass\n",
    "from pathlib import Path\n",
    "\n",
    "@dataclass(frozen=True)\n",
    "class ExperimentConfig:\n",
    "    path_of_model: Path\n",
    "    training_data: Path\n",
    "    validation_data: Path\n",
    "    metric_file_name: Path\n",
    "    base_model_path: Path\n",
    "    updated_base_model_path: Path\n",
    "    all_params: dict\n",
    "    params_image_size: list\n",
    "    params_batch_size: int\n",
    "    params_is_augmentation: bool\n",
    "    mlflow_uri: str\n",
    "    artifact_uri : Path\n",
    "    mlflow_experiment: Path"
   ]
  },
  {
   "cell_type": "code",
   "execution_count": 40,
   "metadata": {},
   "outputs": [],
   "source": [
    "from cnnClassifier.constants import *\n",
    "from cnnClassifier.utils.common import read_yaml, create_directories, save_json\n",
    "\n",
    "class ConfigurationManager:\n",
    "    os.environ['MLFLOW_TRACKING_URI']='https://dagshub.com/Laidson/Xray_img_detection.mlflow'\n",
    "    os.environ['MLFLOW_TRACKING_USERNAME']='Laidson' \n",
    "    os.environ['MLFLOW_TRACKING_PASSWORD']='c6d4314eb632a1695545c2970d5966edfa2c8a4c' \n",
    "\n",
    "    def __init__(\n",
    "        self, \n",
    "        config_filepath = CONFIG_FILE_PATH,\n",
    "        params_filepath = PARAMS_FILE_PATH):\n",
    "        self.config = read_yaml(config_filepath)\n",
    "        self.params = read_yaml(params_filepath)\n",
    "        create_directories([self.config.artifacts_root, self.config.evaluation.root_dir])\n",
    "    \n",
    "    def get_experiment_config(self) -> ExperimentConfig:\n",
    "\n",
    "        config = self.config\n",
    "        experiment_config = ExperimentConfig(\n",
    "            path_of_model = Path(config.training.trained_model_path),\n",
    "            training_data = Path(config.data_ingestion.train_dir),\n",
    "            validation_data = Path(config.data_ingestion.test_dir),\n",
    "            metric_file_name = Path(config.evaluation.metric_file_name),\n",
    "            base_model_path = Path(config.prepare_base_model.base_model_path),\n",
    "            updated_base_model_path = Path(config.prepare_base_model.updated_base_model_path),\n",
    "            all_params = self.params,\n",
    "            params_image_size = self.params.IMAGE_SIZE,\n",
    "            params_batch_size = self.params.BATCH_SIZE,\n",
    "            params_is_augmentation = self.params.AUGMENTATION,\n",
    "            mlflow_uri=os.environ['MLFLOW_TRACKING_URI'],\n",
    "            artifact_uri = Path(config.evaluation.artifact_uri),\n",
    "            mlflow_experiment = Path(config.evaluation.mlflow_experiment),\n",
    "                       )\n",
    "        return experiment_config\n",
    "\n"
   ]
  },
  {
   "cell_type": "code",
   "execution_count": 58,
   "metadata": {},
   "outputs": [],
   "source": [
    "from urllib.parse import urlparse\n",
    "import mlflow\n",
    "\n",
    "class Experiment:\n",
    "    def __init__(self, config:ExperimentConfig):\n",
    "        self.config = config\n",
    "\n",
    "    @staticmethod\n",
    "    def save_model(path: Path, model: tf.keras.Model):\n",
    "        model.save(path)\n",
    "    \n",
    "    def get_base_model(self):\n",
    "        self.model = tf.keras.applications.vgg16.VGG16(\n",
    "            input_shape=self.config.params_image_size,\n",
    "            weights=self.config.all_params.WEIGHTS,\n",
    "            include_top=self.config.all_params.INCLUDE_TOP\n",
    "        )\n",
    "\n",
    "        self.save_model(path=self.config.base_model_path, model=self.model)\n",
    "        \n",
    "        return self.model\n",
    "\n",
    "    @staticmethod\n",
    "    def _prepare_full_model(model, classes, freeze_all, freeze_till, learning_rate):\n",
    "        if freeze_all:\n",
    "            for layer in model.layers:\n",
    "                model.trainable = False\n",
    "        elif (freeze_till is not None) and (freeze_till > 0):\n",
    "            for layer in model.layers[:-freeze_till]:\n",
    "                model.trainable = False\n",
    "\n",
    "        flatten_in = tf.keras.layers.Flatten()(model.output)\n",
    "        prediction = tf.keras.layers.Dense(\n",
    "            units=classes,\n",
    "            activation=\"softmax\"\n",
    "        )(flatten_in)\n",
    "\n",
    "        full_model = tf.keras.models.Model(\n",
    "            inputs=model.input,\n",
    "            outputs=prediction\n",
    "        )\n",
    "\n",
    "        full_model.compile(\n",
    "            optimizer=tf.keras.optimizers.SGD(learning_rate=learning_rate),\n",
    "            loss=tf.keras.losses.CategoricalCrossentropy(),\n",
    "            metrics=[\"accuracy\"]\n",
    "        )\n",
    "\n",
    "        full_model.summary()\n",
    "        return full_model\n",
    "    \n",
    "    def update_base_model(self):\n",
    "        self.full_model = self._prepare_full_model(\n",
    "            model=self.model,\n",
    "            classes=self.config.all_params.CLASSES,#params_classes,\n",
    "            freeze_all=True,\n",
    "            freeze_till=None,\n",
    "            learning_rate=self.config.all_params.LEARNING_RATE,#params_learning_rate\n",
    "        )\n",
    "\n",
    "        self.save_model(path=self.config.updated_base_model_path, model=self.full_model)\n",
    "\n",
    "        return self.full_model\n",
    "    \n",
    "    def experiment(self):#, callback_list:list):\n",
    "\n",
    "        # **** PREPARE DATA TO MODEL ****\n",
    "        datagenerator_kwargs = dict(rescale = 1./225, \n",
    "                                    #validation_split = 0.20,\n",
    "                                    )\n",
    "\n",
    "        dataflow_kwargs = dict(target_size = self.config.params_image_size[:-1],\n",
    "                               batch_size = self.config.params_batch_size,\n",
    "                               interpolation = 'bilinear',\n",
    "                               class_mode='categorical',\n",
    "                               shuffle=False, # Set to False to ensure the order of samples is preserved\n",
    "                              ) \n",
    "        \n",
    "        valid_datagenerator = tf.keras.preprocessing.image.ImageDataGenerator(**datagenerator_kwargs)\n",
    "\n",
    "        self.valid_generator = valid_datagenerator.flow_from_directory(directory=self.config.validation_data,\n",
    "                                                                       #subset='validation',\n",
    "                                                                       **dataflow_kwargs)\n",
    "        # Display the first batch of images and their labels\n",
    "        # Visualize the first image and its label\n",
    "        #self._validate_image_transformation(data_generator=self.valid_generator, img_idx=0)\n",
    "        \n",
    "        \n",
    "        if self.config.params_is_augmentation:\n",
    "            train_datagenerator = tf.keras.preprocessing.image.ImageDataGenerator(\n",
    "                rotation_range=40,\n",
    "                horizontal_flip=True,\n",
    "                width_shift_range=0.2,\n",
    "                height_shift_range=0.2,\n",
    "                zoom_range=0.2,\n",
    "                **datagenerator_kwargs\n",
    "            )\n",
    "        else:\n",
    "            pass\n",
    "            #train_datagenerator = valid_datagenerator\n",
    "        train_datagenerator = tf.keras.preprocessing.image.ImageDataGenerator(**datagenerator_kwargs)\n",
    "        self.train_generator = train_datagenerator.flow_from_directory(\n",
    "                directory = self.config.training_data,\n",
    "                #subset='training',\n",
    "                #shuffle=True,\n",
    "                **dataflow_kwargs\n",
    "            )\n",
    "\n",
    "        # Display the first batch of images and their labels\n",
    "        # Visualize the first image and its label\n",
    "        #self._validate_image_transformation(data_generator=self.train_generator, img_idx=0)\n",
    "\n",
    "\n",
    "        # **** TRAIN A MODEL ****\n",
    "        self.steps_per_epoch = self.train_generator.samples // self.train_generator.batch_size\n",
    "        self.validation_steps = self.valid_generator.samples // self.valid_generator.batch_size\n",
    "\n",
    "        mlflow.set_tracking_uri(self.config.mlflow_uri)\n",
    "        tracking_url_type_store = urlparse(mlflow.get_tracking_uri()).scheme\n",
    "\n",
    "        with mlflow.start_run():\n",
    "\n",
    "            self.get_base_model()\n",
    "            \n",
    "            model = self.update_base_model()\n",
    "\n",
    "            model.fit(\n",
    "                self.train_generator,\n",
    "                epochs = self.config.all_params.EPOCHS,\n",
    "                steps_per_epoch = self.steps_per_epoch,\n",
    "                validation_steps = self.validation_steps,\n",
    "                validation_data = self.valid_generator,\n",
    "                #callbacks = callback_list,\n",
    "            )\n",
    "\n",
    "             # Log metrics\n",
    "            (loss, accuracy) = model.evaluate(self.valid_generator)\n",
    "            mlflow.log_metric('loss', loss)\n",
    "            mlflow.log_metric('accuracy', accuracy)\n",
    "\n",
    "             # Log parameters\n",
    "            mlflow.log_params(datagenerator_kwargs) # If using ConfigBox, convert it to a dictionary\n",
    "            mlflow.log_params(self.config.all_params.to_dict()) # If using ConfigBox, convert it to a dictionary\n",
    "\n",
    "            # List of keys to keep in the new dictionary\n",
    "            desired_keys = ['interpolation', 'class_mode', 'shuffle']\n",
    "            # Create the new dictionary using dictionary comprehension\n",
    "            new_dict = {key: dataflow_kwargs[key] for key in desired_keys}\n",
    "            mlflow.log_params(new_dict) # If using ConfigBox, convert it to a dictionary\n",
    "\n",
    "            #Model registry does not work file store\n",
    "            if tracking_url_type_store != False:\n",
    "                mlflow.tensorflow.log_model(model, artifact_path=\"model\")"
   ]
  },
  {
   "cell_type": "code",
   "execution_count": 59,
   "metadata": {},
   "outputs": [
    {
     "name": "stdout",
     "output_type": "stream",
     "text": [
      "[2023-08-03 14:49:50,130: INFO: common: yaml file: config\\config.yaml loaded successfully]\n",
      "[2023-08-03 14:49:50,136: INFO: common: yaml file: params.yaml loaded successfully]\n",
      "[2023-08-03 14:49:50,141: INFO: common: created directory at: artifacts]\n",
      "[2023-08-03 14:49:50,143: INFO: common: created directory at: artifacts/evaluation]\n"
     ]
    },
    {
     "name": "stdout",
     "output_type": "stream",
     "text": [
      "Found 624 images belonging to 2 classes.\n",
      "Found 4763 images belonging to 2 classes.\n",
      "WARNING:tensorflow:Compiled the loaded model, but the compiled metrics have yet to be built. `model.compile_metrics` will be empty until you train or evaluate the model.\n",
      "[2023-08-03 14:49:53,221: WARNING: saving_utils: Compiled the loaded model, but the compiled metrics have yet to be built. `model.compile_metrics` will be empty until you train or evaluate the model.]\n",
      "Model: \"model_4\"\n",
      "_________________________________________________________________\n",
      " Layer (type)                Output Shape              Param #   \n",
      "=================================================================\n",
      " input_8 (InputLayer)        [(None, 224, 224, 3)]     0         \n",
      "                                                                 \n",
      " block1_conv1 (Conv2D)       (None, 224, 224, 64)      1792      \n",
      "                                                                 \n",
      " block1_conv2 (Conv2D)       (None, 224, 224, 64)      36928     \n",
      "                                                                 \n",
      " block1_pool (MaxPooling2D)  (None, 112, 112, 64)      0         \n",
      "                                                                 \n",
      " block2_conv1 (Conv2D)       (None, 112, 112, 128)     73856     \n",
      "                                                                 \n",
      " block2_conv2 (Conv2D)       (None, 112, 112, 128)     147584    \n",
      "                                                                 \n",
      " block2_pool (MaxPooling2D)  (None, 56, 56, 128)       0         \n",
      "                                                                 \n",
      " block3_conv1 (Conv2D)       (None, 56, 56, 256)       295168    \n",
      "                                                                 \n",
      " block3_conv2 (Conv2D)       (None, 56, 56, 256)       590080    \n",
      "                                                                 \n",
      " block3_conv3 (Conv2D)       (None, 56, 56, 256)       590080    \n",
      "                                                                 \n",
      " block3_pool (MaxPooling2D)  (None, 28, 28, 256)       0         \n",
      "                                                                 \n",
      " block4_conv1 (Conv2D)       (None, 28, 28, 512)       1180160   \n",
      "                                                                 \n",
      " block4_conv2 (Conv2D)       (None, 28, 28, 512)       2359808   \n",
      "                                                                 \n",
      " block4_conv3 (Conv2D)       (None, 28, 28, 512)       2359808   \n",
      "                                                                 \n"
     ]
    },
    {
     "name": "stderr",
     "output_type": "stream",
     "text": [
      "c:\\Users\\lpaes\\projects\\Xray_img_detection\\.venv\\lib\\site-packages\\keras\\src\\engine\\training.py:3000: UserWarning: You are saving your model as an HDF5 file via `model.save()`. This file format is considered legacy. We recommend using instead the native Keras format, e.g. `model.save('my_model.keras')`.\n",
      "  saving_api.save_model(\n"
     ]
    },
    {
     "name": "stdout",
     "output_type": "stream",
     "text": [
      " block4_pool (MaxPooling2D)  (None, 14, 14, 512)       0         \n",
      "                                                                 \n",
      " block5_conv1 (Conv2D)       (None, 14, 14, 512)       2359808   \n",
      "                                                                 \n",
      " block5_conv2 (Conv2D)       (None, 14, 14, 512)       2359808   \n",
      "                                                                 \n",
      " block5_conv3 (Conv2D)       (None, 14, 14, 512)       2359808   \n",
      "                                                                 \n",
      " block5_pool (MaxPooling2D)  (None, 7, 7, 512)         0         \n",
      "                                                                 \n",
      " flatten_4 (Flatten)         (None, 25088)             0         \n",
      "                                                                 \n",
      " dense_4 (Dense)             (None, 2)                 50178     \n",
      "                                                                 \n",
      "=================================================================\n",
      "Total params: 14764866 (56.32 MB)\n",
      "Trainable params: 50178 (196.01 KB)\n",
      "Non-trainable params: 14714688 (56.13 MB)\n",
      "_________________________________________________________________\n",
      "297/297 [==============================] - 1071s 4s/step - loss: 9.9127 - accuracy: 0.7565 - val_loss: 5.1263 - val_accuracy: 0.7564\n",
      "39/39 [==============================] - 118s 3s/step - loss: 5.1263 - accuracy: 0.7564\n",
      "[2023-08-03 15:09:52,618: WARNING: connectionpool: Retrying (Retry(total=4, connect=5, read=4, redirect=5, status=5)) after connection broken by 'ProtocolError('Connection aborted.', ConnectionResetError(10054, 'Foi forçado o cancelamento de uma conexão existente pelo host remoto', None, 10054, None))': /Laidson/Xray_img_detection.mlflow/api/2.0/mlflow/runs/log-metric]\n"
     ]
    },
    {
     "name": "stderr",
     "output_type": "stream",
     "text": [
      "2023/08/03 15:09:56 WARNING mlflow.tensorflow: You are saving a TensorFlow Core model or Keras model without a signature. Inference with mlflow.pyfunc.spark_udf() will not work unless the model's pyfunc representation accepts pandas DataFrames as inference inputs.\n"
     ]
    },
    {
     "name": "stdout",
     "output_type": "stream",
     "text": [
      "INFO:tensorflow:Assets written to: C:\\Users\\lpaes\\AppData\\Local\\Temp\\tmpbg7jl_iu\\model\\data\\model\\assets\n",
      "[2023-08-03 15:09:59,236: INFO: builder_impl: Assets written to: C:\\Users\\lpaes\\AppData\\Local\\Temp\\tmpbg7jl_iu\\model\\data\\model\\assets]\n"
     ]
    },
    {
     "name": "stderr",
     "output_type": "stream",
     "text": [
      "2023/08/03 15:11:59 WARNING mlflow.utils.environment: Encountered an unexpected error while inferring pip requirements (model URI: C:\\Users\\lpaes\\AppData\\Local\\Temp\\tmpbg7jl_iu\\model, flavor: tensorflow), fall back to return ['tensorflow==2.13.0']. Set logging level to DEBUG to see the full traceback.\n"
     ]
    }
   ],
   "source": [
    "try:\n",
    "    config = ConfigurationManager()\n",
    "    val_config = config.get_experiment_config()\n",
    "    experiment = Experiment(val_config)\n",
    "    # evaluation.evaluation()\n",
    "    # evaluation.save_score()\n",
    "    experiment.experiment()\n",
    "except Exception as e:\n",
    "   raise e"
   ]
  }
 ],
 "metadata": {
  "kernelspec": {
   "display_name": ".venv",
   "language": "python",
   "name": "python3"
  },
  "language_info": {
   "codemirror_mode": {
    "name": "ipython",
    "version": 3
   },
   "file_extension": ".py",
   "mimetype": "text/x-python",
   "name": "python",
   "nbconvert_exporter": "python",
   "pygments_lexer": "ipython3",
   "version": "3.8.6"
  },
  "orig_nbformat": 4
 },
 "nbformat": 4,
 "nbformat_minor": 2
}
