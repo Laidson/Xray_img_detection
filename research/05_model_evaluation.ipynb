{
 "cells": [
  {
   "cell_type": "code",
   "execution_count": 12,
   "metadata": {},
   "outputs": [],
   "source": [
    "import os"
   ]
  },
  {
   "cell_type": "code",
   "execution_count": 13,
   "metadata": {},
   "outputs": [
    {
     "data": {
      "text/plain": [
       "'c:\\\\Users\\\\lpaes\\\\projects\\\\Xray_img_detection'"
      ]
     },
     "execution_count": 13,
     "metadata": {},
     "output_type": "execute_result"
    }
   ],
   "source": [
    "%pwd"
   ]
  },
  {
   "cell_type": "code",
   "execution_count": 14,
   "metadata": {},
   "outputs": [
    {
     "data": {
      "text/plain": [
       "'c:\\\\Users\\\\lpaes\\\\projects\\\\Xray_img_detection'"
      ]
     },
     "execution_count": 14,
     "metadata": {},
     "output_type": "execute_result"
    }
   ],
   "source": [
    "#os.chdir('../')\n",
    "%pwd"
   ]
  },
  {
   "cell_type": "code",
   "execution_count": 15,
   "metadata": {},
   "outputs": [],
   "source": [
    "import tensorflow as tf"
   ]
  },
  {
   "cell_type": "code",
   "execution_count": 16,
   "metadata": {},
   "outputs": [],
   "source": [
    "#model = tf.keras.models.load_model('artifacts/training/model.h5')"
   ]
  },
  {
   "cell_type": "code",
   "execution_count": 17,
   "metadata": {},
   "outputs": [],
   "source": [
    "from dataclasses import dataclass\n",
    "from pathlib import Path\n",
    "\n",
    "@dataclass(frozen=True)\n",
    "class EvaluationConfig:\n",
    "    path_of_model: Path\n",
    "    training_data: Path\n",
    "    validation_data: Path\n",
    "    metric_file_name: Path\n",
    "    all_params: dict\n",
    "    params_image_size: list\n",
    "    params_batch_size: int\n",
    "    mlflow_uri: str\n",
    "    artifact_uri : Path\n",
    "    mlflow_experiment: Path"
   ]
  },
  {
   "cell_type": "code",
   "execution_count": 18,
   "metadata": {},
   "outputs": [],
   "source": [
    "from cnnClassifier.constants import *\n",
    "from cnnClassifier.utils.common import read_yaml, create_directories, save_json\n",
    "\n",
    "class ConfigurationManager:\n",
    "    os.environ['MLFLOW_TRACKING_URI']=\n",
    "    os.environ['MLFLOW_TRACKING_USERNAME']=\n",
    "    os.environ['MLFLOW_TRACKING_PASSWORD']=\n",
    "\n",
    "    def __init__(\n",
    "        self, \n",
    "        config_filepath = CONFIG_FILE_PATH,\n",
    "        params_filepath = PARAMS_FILE_PATH):\n",
    "        self.config = read_yaml(config_filepath)\n",
    "        self.params = read_yaml(params_filepath)\n",
    "        create_directories([self.config.artifacts_root, self.config.evaluation.root_dir])\n",
    "\n",
    "    def get_validation_config(self) -> EvaluationConfig:\n",
    "        config = self.config\n",
    "        eval_config = EvaluationConfig(\n",
    "            path_of_model = Path(config.training.trained_model_path),\n",
    "            training_data = Path(config.data_ingestion.train_dir),\n",
    "            validation_data = Path(config.data_ingestion.test_dir),\n",
    "            metric_file_name = Path(config.evaluation.metric_file_name),\n",
    "            all_params = self.params,\n",
    "            params_image_size = self.params.IMAGE_SIZE,\n",
    "            params_batch_size = self.params.BATCH_SIZE,\n",
    "            mlflow_uri=os.environ['MLFLOW_TRACKING_URI'],\n",
    "            artifact_uri = Path(config.evaluation.artifact_uri),\n",
    "            mlflow_experiment = Path(config.evaluation.mlflow_experiment),\n",
    "                       )\n",
    "        return eval_config"
   ]
  },
  {
   "cell_type": "code",
   "execution_count": 19,
   "metadata": {},
   "outputs": [],
   "source": [
    "from urllib.parse import urlparse\n",
    "import mlflow\n",
    "\n",
    "class Evaluation:\n",
    "    def __init__(self, config:EvaluationConfig):\n",
    "        self.config = config \n",
    "    \n",
    "    def _valid_generator(self):\n",
    "        datagenerator_kwargs = dict(\n",
    "            rescale = 1./255,\n",
    "            #validation_split = 0.20\n",
    "        )\n",
    "\n",
    "        dataflow_kwargs = dict(target_size = self.config.params_image_size[:-1],\n",
    "                               batch_size = self.config.params_batch_size,\n",
    "                               interpolation = 'bilinear',\n",
    "                               class_mode='categorical',\n",
    "                              ) \n",
    "\n",
    "        valid_datagenerator = tf.keras.preprocessing.image.ImageDataGenerator(\n",
    "            **datagenerator_kwargs\n",
    "        )\n",
    "\n",
    "        self.valid_generator = valid_datagenerator.flow_from_directory(\n",
    "            directory=self.config.validation_data,\n",
    "            #subset='validation' # This one should turn on if the data origen for test and val are from the same folder\n",
    "            shuffle=False,\n",
    "            **dataflow_kwargs,\n",
    "        )\n",
    "\n",
    "    @staticmethod\n",
    "    def load_model(path: Path) -> tf.keras.Model:\n",
    "        return tf.keras.models.load_model(path)\n",
    "    \n",
    "    def evaluation(self):\n",
    "        model = self.load_model(path=self.config.path_of_model)\n",
    "        self._valid_generator()\n",
    "        self.score = model.evaluate(self.valid_generator)\n",
    "    \n",
    "    def log_into_mlflow(self):\n",
    "        model = self.load_model(path=self.config.path_of_model)\n",
    "\n",
    "        datagenerator_kwargs = dict(\n",
    "            rescale = 1./255,\n",
    "            #validation_split = 0.20\n",
    "        )\n",
    "\n",
    "        dataflow_kwargs = dict(target_size = self.config.params_image_size[:-1],\n",
    "                               batch_size = self.config.params_batch_size,\n",
    "                               interpolation = 'bilinear',\n",
    "                               class_mode='categorical',\n",
    "                              ) \n",
    "\n",
    "        valid_datagenerator = tf.keras.preprocessing.image.ImageDataGenerator(\n",
    "            **datagenerator_kwargs\n",
    "        )\n",
    "\n",
    "\n",
    "        mlflow.set_tracking_uri(self.config.mlflow_uri)  # Set the MLflow tracking URI\n",
    "        #mlflow.set_registry_uri(self.config.mlflow_uri)\n",
    "        tracking_url_type_store = urlparse(mlflow.get_tracking_uri()).scheme\n",
    "\n",
    "        #mlflow.set_experiment('mlflow_test')\n",
    "        with mlflow.start_run():\n",
    "\n",
    "            self.valid_generator = valid_datagenerator.flow_from_directory(\n",
    "            directory=self.config.validation_data,\n",
    "            #subset='validation' # This one should turn on if the data origen for test and val are from the same folder\n",
    "            shuffle=False,\n",
    "            **dataflow_kwargs,\n",
    "            )\n",
    "            \n",
    "            # Log metrics\n",
    "            (loss, accuracy) = model.evaluate(self.valid_generator)\n",
    "            mlflow.log_metric('loss', loss)\n",
    "            mlflow.log_metric('accuracy', accuracy)\n",
    "\n",
    "            # Log parameters\n",
    "            params_dict = self.config.all_params.to_dict()\n",
    "            mlflow.log_params(params_dict) # If using ConfigBox, convert it to a dictionary\n",
    "            \n",
    "\n",
    "            #Model registry does not work file store\n",
    "            if tracking_url_type_store != False:\n",
    "                #Register model\n",
    "                #There are other ways to use Model Registry, which depends on the use case\n",
    "                #please refer to the doc for more info:\n",
    "                #https://mlflow.org/docs/latest/model-registry.html#api-mlflow\n",
    "                mlflow.tensorflow.log_model(model, artifact_path=\"model\")\n",
    "\n",
    "\n",
    "    \n",
    "    def save_score(self):\n",
    "        scores = {'loss': self.score[0], 'accuracy':self.score[1]}\n",
    "        #save_json(path=Path('scores.json'), data=scores)\n",
    "        save_json(path=Path(self.config.metric_file_name), data=scores)"
   ]
  },
  {
   "cell_type": "code",
   "execution_count": 20,
   "metadata": {},
   "outputs": [
    {
     "name": "stdout",
     "output_type": "stream",
     "text": [
      "[2023-08-03 15:47:07,561: INFO: common: yaml file: config\\config.yaml loaded successfully]\n",
      "[2023-08-03 15:47:07,571: INFO: common: yaml file: params.yaml loaded successfully]\n",
      "[2023-08-03 15:47:07,572: INFO: common: created directory at: artifacts]\n",
      "[2023-08-03 15:47:07,574: INFO: common: created directory at: artifacts/evaluation]\n"
     ]
    },
    {
     "name": "stdout",
     "output_type": "stream",
     "text": [
      "[2023-08-03 15:47:08,166: WARNING: connectionpool: Retrying (Retry(total=4, connect=5, read=4, redirect=5, status=5)) after connection broken by 'ProtocolError('Connection aborted.', ConnectionResetError(10054, 'Foi forçado o cancelamento de uma conexão existente pelo host remoto', None, 10054, None))': /Laidson/Xray_img_detection.mlflow/api/2.0/mlflow/runs/create]\n",
      "Found 624 images belonging to 2 classes.\n",
      "39/39 [==============================] - 124s 3s/step - loss: 3.3939 - accuracy: 0.7147\n"
     ]
    },
    {
     "name": "stderr",
     "output_type": "stream",
     "text": [
      "2023/08/03 15:49:14 WARNING mlflow.tensorflow: You are saving a TensorFlow Core model or Keras model without a signature. Inference with mlflow.pyfunc.spark_udf() will not work unless the model's pyfunc representation accepts pandas DataFrames as inference inputs.\n"
     ]
    },
    {
     "name": "stdout",
     "output_type": "stream",
     "text": [
      "INFO:tensorflow:Assets written to: C:\\Users\\lpaes\\AppData\\Local\\Temp\\tmp5zr3j0rx\\model\\data\\model\\assets\n",
      "[2023-08-03 15:49:15,816: INFO: builder_impl: Assets written to: C:\\Users\\lpaes\\AppData\\Local\\Temp\\tmp5zr3j0rx\\model\\data\\model\\assets]\n",
      "\n"
     ]
    }
   ],
   "source": [
    "try:\n",
    "    config = ConfigurationManager()\n",
    "    val_config = config.get_validation_config()\n",
    "    evaluation = Evaluation(val_config)\n",
    "    # evaluation.evaluation()\n",
    "    # evaluation.save_score()\n",
    "    evaluation.log_into_mlflow()\n",
    "except Exception as e:\n",
    "   raise e"
   ]
  }
 ],
 "metadata": {
  "kernelspec": {
   "display_name": ".venv",
   "language": "python",
   "name": "python3"
  },
  "language_info": {
   "codemirror_mode": {
    "name": "ipython",
    "version": 3
   },
   "file_extension": ".py",
   "mimetype": "text/x-python",
   "name": "python",
   "nbconvert_exporter": "python",
   "pygments_lexer": "ipython3",
   "version": "3.8.6"
  },
  "orig_nbformat": 4
 },
 "nbformat": 4,
 "nbformat_minor": 2
}
